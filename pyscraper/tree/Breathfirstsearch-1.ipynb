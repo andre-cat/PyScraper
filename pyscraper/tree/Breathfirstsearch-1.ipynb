{
 "cells": [
  {
   "cell_type": "code",
   "execution_count": null,
   "metadata": {},
   "outputs": [],
   "source": [
    "from collections import defaultdict\n",
    "from typing import DefaultDict, List\n",
    "\n",
    "\n",
    "class Node :\n",
    "    def __init__(self,value=None,children=None):\n",
    "        self.value = value\n",
    "        self.children= children\n",
    "\n",
    "class Tree:\n",
    "     def levelorder(self, root: 'Node')->List[List[int]]:\n",
    "         l = defaultdict(list)\n",
    "         \n",
    "         def dfs(node, level):\n",
    "             if not node:return\n",
    "             l[level].append(node.value)\n",
    "             for c in  node.children:\n",
    "                 dfs(c, level+1)\n",
    "         \n",
    "         dfs(root,0)\n",
    "         \n",
    "         return [lst for k , lst in l.items()]"
   ]
  }
 ],
 "metadata": {
  "language_info": {
   "name": "python"
  },
  "orig_nbformat": 4
 },
 "nbformat": 4,
 "nbformat_minor": 2
}
